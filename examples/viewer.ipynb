{
 "cells": [
  {
   "cell_type": "code",
   "execution_count": 1,
   "metadata": {
    "collapsed": true
   },
   "outputs": [],
   "source": [
    "from IPython.display import display\n",
    "import numpy as np\n",
    "import popper_widgets as popw"
   ]
  },
  {
   "cell_type": "code",
   "execution_count": 2,
   "metadata": {
    "collapsed": false
   },
   "outputs": [],
   "source": [
    "coords = popw.CoordWidget(disabled=False)\n",
    "viewer = popw.InteractiveViewer(coords, scale=2.0)"
   ]
  },
  {
   "cell_type": "code",
   "execution_count": 3,
   "metadata": {
    "collapsed": false
   },
   "outputs": [],
   "source": [
    "display(coords)\n",
    "display(viewer)"
   ]
  },
  {
   "cell_type": "code",
   "execution_count": 4,
   "metadata": {
    "collapsed": true
   },
   "outputs": [],
   "source": [
    "def test(*args, **kwargs):\n",
    "    print(args)\n",
    "    print(kwargs)\n",
    "\n",
    "viewer.onclick(test)"
   ]
  },
  {
   "cell_type": "code",
   "execution_count": 5,
   "metadata": {
    "collapsed": true
   },
   "outputs": [],
   "source": [
    "def gauss2d(x, y, sx, sy):\n",
    "    return np.exp(-(x**2/sx**2+y**2/sy**2))\n",
    "\n",
    "x = np.linspace(-1,1,50)\n",
    "y = np.linspace(-1,1,50)\n",
    "x,y = np.meshgrid(x,y)\n",
    "\n",
    "z = gauss2d(x,y,.7,.7)\n",
    "maz = np.ma.array(z)\n",
    "maz.mask = maz<.2\n",
    "viewer.add_image(maz, x=10, y=10, clear=True, alpha=.3)"
   ]
  },
  {
   "cell_type": "code",
   "execution_count": 6,
   "metadata": {
    "collapsed": true
   },
   "outputs": [],
   "source": [
    "viewer.add_markers([50,60,70,80,90], [50,100,150,200,250], marker='plus', clear=False, css={'stroke': 'blue'})"
   ]
  },
  {
   "cell_type": "code",
   "execution_count": 7,
   "metadata": {
    "collapsed": true
   },
   "outputs": [],
   "source": [
    "viewer.scale=4.0"
   ]
  },
  {
   "cell_type": "code",
   "execution_count": 8,
   "metadata": {
    "collapsed": true
   },
   "outputs": [],
   "source": [
    "viewer.add_layer()"
   ]
  },
  {
   "cell_type": "code",
   "execution_count": 9,
   "metadata": {
    "collapsed": true
   },
   "outputs": [],
   "source": [
    "viewer.add_markers(100, 35, marker='x', css={'stroke': 'pink'}, clear=False, layer=2)"
   ]
  },
  {
   "cell_type": "code",
   "execution_count": null,
   "metadata": {
    "collapsed": true
   },
   "outputs": [],
   "source": []
  }
 ],
 "metadata": {
  "kernelspec": {
   "display_name": "Python 3",
   "language": "python",
   "name": "python3"
  },
  "language_info": {
   "codemirror_mode": {
    "name": "ipython",
    "version": 3
   },
   "file_extension": ".py",
   "mimetype": "text/x-python",
   "name": "python",
   "nbconvert_exporter": "python",
   "pygments_lexer": "ipython3",
   "version": "3.5.2"
  },
  "widgets": {
   "state": {
    "65a53bc6b9bf4a1f845b8342012fb6ee": {
     "views": [
      {
       "cell_index": 2
      }
     ]
    },
    "dc84b5188d5249c68c6aecaca1bf1add": {
     "views": [
      {
       "cell_index": 2
      }
     ]
    }
   },
   "version": "1.2.0"
  }
 },
 "nbformat": 4,
 "nbformat_minor": 1
}
